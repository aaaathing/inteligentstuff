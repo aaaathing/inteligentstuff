{
 "cells": [
  {
   "cell_type": "code",
   "execution_count": 2,
   "id": "51135e3e",
   "metadata": {},
   "outputs": [],
   "source": [
    "import sys\n",
    "sys.path.append(\"..\")\n",
    "import math\n",
    "import torch\n",
    "from torch import tensor\n",
    "import parts\n",
    "import matplotlib.pyplot as plt\n",
    "from IPython.display import clear_output, display, update_display"
   ]
  },
  {
   "cell_type": "code",
   "execution_count": 9,
   "id": "584f24cd",
   "metadata": {},
   "outputs": [],
   "source": [
    "class MemoryLayer(parts.Layer):\n",
    "\tdef update(self):\n",
    "\t\tself.updateV()\n",
    "\tdef learn(self):\n",
    "\t\tfor sender in self.w:\n",
    "\t\t\tself.w[sender] += sender.v[:,None] * (self.v[None,:]*2.0-1.0) * 0.1\n",
    "\t\t\tself.w[sender].clamp_(0.0,1.0)"
   ]
  },
  {
   "cell_type": "code",
   "execution_count": 7,
   "id": "92cc609d",
   "metadata": {},
   "outputs": [],
   "source": [
    "torch.manual_seed(0)\n",
    "patterns=[(torch.rand((40,)) < 0.2) for _ in range(3)]"
   ]
  },
  {
   "cell_type": "code",
   "execution_count": 10,
   "id": "f996c2a0",
   "metadata": {},
   "outputs": [
    {
     "data": {
      "image/png": "[encoded data removed]",
      "text/plain": [
       "<Figure size 640x480 with 1 Axes>"
      ]
     },
     "metadata": {},
     "output_type": "display_data"
    }
   ],
   "source": [
    "layer=MemoryLayer(40)\n",
    "disp=display(display_id=True)\n",
    "for p in patterns: # train\n",
    "\tlayer.v.zero_()\n",
    "\tfor _ in range(10):\n",
    "\t\tlayer.inputTensor(p)\n",
    "\t\tlayer.input(layer,bidirectional=False)\n",
    "\t\tlayer.update()\n",
    "\n",
    "\t\tplt.imshow([layer.v], vmin=0,vmax=1)\n",
    "\t\tclear_output(True)\n",
    "\t\tplt.title(\"Training on pattern\")\n",
    "\t\tdisp.update(plt.figure)\n",
    "\t\tplt.pause(0.1)\n",
    "\tlayer.learn()\n",
    "\n",
    "for p in patterns: # recall\n",
    "\tlayer.v.zero_()\n",
    "\tlayer.inputTensor(p)\n",
    "\tfor _ in range(10):\n",
    "\t\tlayer.input(layer,bidirectional=False)\n",
    "\t\tlayer.update()\n",
    "\n",
    "\t\tplt.imshow([layer.v], vmin=0,vmax=1)\n",
    "\t\tplt.title(\"Recalling pattern\")\n",
    "\t\tclear_output(True)\n",
    "\t\tdisp.update(plt.figure)\n",
    "\t\tplt.pause(0.1)"
   ]
  },
  {
   "cell_type": "markdown",
   "id": "7331bfa1",
   "metadata": {},
   "source": [
    "it keeps recalling the same thing even with different input"
   ]
  }
 ],
 "metadata": {
  "kernelspec": {
   "display_name": ".venv",
   "language": "python",
   "name": "python3"
  },
  "language_info": {
   "codemirror_mode": {
    "name": "ipython",
    "version": 3
   },
   "file_extension": ".py",
   "mimetype": "text/x-python",
   "name": "python",
   "nbconvert_exporter": "python",
   "pygments_lexer": "ipython3",
   "version": "3.13.4"
  }
 },
 "nbformat": 4,
 "nbformat_minor": 5
}
