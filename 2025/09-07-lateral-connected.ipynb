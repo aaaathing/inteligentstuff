{
 "cells": [
  {
   "cell_type": "code",
   "execution_count": 1,
   "id": "51135e3e",
   "metadata": {},
   "outputs": [],
   "source": [
    "import sys\n",
    "sys.path.append(\"..\")\n",
    "import torch\n",
    "from torch import tensor\n",
    "import parts\n",
    "import matplotlib.pyplot as plt\n",
    "from IPython.display import clear_output, display, update_display"
   ]
  },
  {
   "cell_type": "code",
   "execution_count": 2,
   "id": "f996c2a0",
   "metadata": {},
   "outputs": [
    {
     "data": {
      "image/png": "[encoded data removed]",
      "text/plain": [
       "<Figure size 640x480 with 1 Axes>"
      ]
     },
     "metadata": {},
     "output_type": "display_data"
    },
    {
     "ename": "KeyboardInterrupt",
     "evalue": "",
     "output_type": "error",
     "traceback": [
      "\u001b[31m---------------------------------------------------------------------------\u001b[39m",
      "\u001b[31mKeyboardInterrupt\u001b[39m                         Traceback (most recent call last)",
      "\u001b[36mCell\u001b[39m\u001b[36m \u001b[39m\u001b[32mIn[2]\u001b[39m\u001b[32m, line 10\u001b[39m\n\u001b[32m      8\u001b[39m clear_output(\u001b[38;5;28;01mTrue\u001b[39;00m)\n\u001b[32m      9\u001b[39m disp.update(plt.figure)\n\u001b[32m---> \u001b[39m\u001b[32m10\u001b[39m \u001b[43mplt\u001b[49m\u001b[43m.\u001b[49m\u001b[43mpause\u001b[49m\u001b[43m(\u001b[49m\u001b[32;43m1\u001b[39;49m\u001b[43m)\u001b[49m\n",
      "\u001b[36mFile \u001b[39m\u001b[32m~/nosyncfiles/inteligentstuff/.venv/lib/python3.13/site-packages/matplotlib/pyplot.py:758\u001b[39m, in \u001b[36mpause\u001b[39m\u001b[34m(interval)\u001b[39m\n\u001b[32m    756\u001b[39m         canvas.draw_idle()\n\u001b[32m    757\u001b[39m     show(block=\u001b[38;5;28;01mFalse\u001b[39;00m)\n\u001b[32m--> \u001b[39m\u001b[32m758\u001b[39m     \u001b[43mcanvas\u001b[49m\u001b[43m.\u001b[49m\u001b[43mstart_event_loop\u001b[49m\u001b[43m(\u001b[49m\u001b[43minterval\u001b[49m\u001b[43m)\u001b[49m\n\u001b[32m    759\u001b[39m \u001b[38;5;28;01melse\u001b[39;00m:\n\u001b[32m    760\u001b[39m     time.sleep(interval)\n",
      "\u001b[36mFile \u001b[39m\u001b[32m~/nosyncfiles/inteligentstuff/.venv/lib/python3.13/site-packages/matplotlib/backend_bases.py:2367\u001b[39m, in \u001b[36mFigureCanvasBase.start_event_loop\u001b[39m\u001b[34m(self, timeout)\u001b[39m\n\u001b[32m   2365\u001b[39m \u001b[38;5;28;01mwhile\u001b[39;00m \u001b[38;5;28mself\u001b[39m._looping \u001b[38;5;129;01mand\u001b[39;00m counter * timestep < timeout:\n\u001b[32m   2366\u001b[39m     \u001b[38;5;28mself\u001b[39m.flush_events()\n\u001b[32m-> \u001b[39m\u001b[32m2367\u001b[39m     \u001b[43mtime\u001b[49m\u001b[43m.\u001b[49m\u001b[43msleep\u001b[49m\u001b[43m(\u001b[49m\u001b[43mtimestep\u001b[49m\u001b[43m)\u001b[49m\n\u001b[32m   2368\u001b[39m     counter += \u001b[32m1\u001b[39m\n",
      "\u001b[31mKeyboardInterrupt\u001b[39m: "
     ]
    }
   ],
   "source": [
    "layer=parts.Layer(40)\n",
    "disp=display(display_id=True)\n",
    "layer.inputTensor(torch.rand(40))\n",
    "for i in range(100):\n",
    "\tlayer.input(layer,bidirectional=False)\n",
    "\tlayer.update()\n",
    "\tplt.imshow([layer.v], vmin=0,vmax=1)\n",
    "\tclear_output(True)\n",
    "\tdisp.update(plt.figure)\n",
    "\tplt.pause(1)"
   ]
  }
 ],
 "metadata": {
  "kernelspec": {
   "display_name": ".venv",
   "language": "python",
   "name": "python3"
  },
  "language_info": {
   "codemirror_mode": {
    "name": "ipython",
    "version": 3
   },
   "file_extension": ".py",
   "mimetype": "text/x-python",
   "name": "python",
   "nbconvert_exporter": "python",
   "pygments_lexer": "ipython3",
   "version": "3.13.4"
  }
 },
 "nbformat": 4,
 "nbformat_minor": 5
}
