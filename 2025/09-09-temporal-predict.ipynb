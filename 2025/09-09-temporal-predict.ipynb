{
 "cells": [
  {
   "cell_type": "code",
   "execution_count": 1,
   "id": "44fa7108",
   "metadata": {},
   "outputs": [],
   "source": [
    "import sys\n",
    "sys.path.append(\"..\")\n",
    "import math\n",
    "import torch\n",
    "from torch import tensor\n",
    "import parts\n",
    "import matplotlib.pyplot as plt\n",
    "import random\n",
    "from IPython.display import clear_output, display, update_display"
   ]
  },
  {
   "cell_type": "markdown",
   "id": "1c74c7b6",
   "metadata": {},
   "source": [
    "# Trying learning using temporal difference:\n",
    "Sep 9, 2025"
   ]
  },
  {
   "cell_type": "code",
   "execution_count": 2,
   "id": "5628b290",
   "metadata": {},
   "outputs": [],
   "source": [
    "class Layer(parts.Layer): # adds learning\n",
    "\tdef __init__(self, shape):\n",
    "\t\tsuper().__init__(shape)\n",
    "\t\tself.learnp = torch.zeros(shape)\n",
    "\t\tself.learnd = torch.zeros(shape)\n",
    "\tdef learn(self, lr=0.1):\n",
    "\t\tself.learnp += (self.v-self.learnp)/8\n",
    "\t\tself.learnd += (self.learnp-self.learnd)/8\n",
    "\t\terror = self.learnp-self.learnd\n",
    "\t\tfor sender in self.w:\n",
    "\t\t\tself.w[sender] += error[None,:] * sender.v[:,None] * lr\n",
    "\t\t\tself.w[sender].clamp_(0.0,1.0)"
   ]
  },
  {
   "cell_type": "code",
   "execution_count": 4,
   "id": "f4b44482",
   "metadata": {},
   "outputs": [],
   "source": [
    "# test learning\n",
    "torch.manual_seed(0)\n",
    "patterns=[(torch.rand((10,)) < 0.2).type(torch.float) for _ in range(5)]\n",
    "\n",
    "layer1 = Layer(10)\n",
    "layer2 = Layer(10)"
   ]
  },
  {
   "cell_type": "code",
   "execution_count": 7,
   "id": "61361ce5",
   "metadata": {},
   "outputs": [
    {
     "data": {
      "image/png": "[encoded data removed]",
      "text/plain": [
       "<Figure size 640x480 with 1 Axes>"
      ]
     },
     "metadata": {},
     "output_type": "display_data"
    }
   ],
   "source": [
    "# test learning\n",
    "disp=display(display_id=True)\n",
    "for _ in range(10):\n",
    "\tp = patterns[random.randint(0,len(patterns)-1)]\n",
    "\tlayer1.v.zero_()\n",
    "\tlayer2.v.zero_()\n",
    "\tfor i in range(10):\n",
    "\t\tlayer1.inputTensor(p)\n",
    "\t\tlayer2.input(layer1)\n",
    "\t\tlayer1.update()\n",
    "\t\tlayer1.learn()\n",
    "\t\tlayer2.update()\n",
    "\t\tlayer2.learn()\n",
    "\t\tplt.imshow([p,layer1.v,layer2.v,layer2.learnp-layer2.learnd+0.5], vmin=0,vmax=1)\n",
    "\t\tclear_output(True)\n",
    "\t\tplt.title(\"Predict\")\n",
    "\t\tdisp.update(plt.figure)\n",
    "\t\tplt.pause(0.1)\n",
    "\n",
    "\tfor i in range(10):\n",
    "\t\tlayer1.inputTensor(p)\n",
    "\t\tlayer2.input(layer1)\n",
    "\t\tlayer1.update()\n",
    "\t\tlayer1.learn()\n",
    "\t\tlayer2.update()\n",
    "\t\tlayer2.v.copy_(p.roll(1))\n",
    "\t\tlayer2.learn()\n",
    "\t\tplt.imshow([p,layer1.v,layer2.v,layer2.learnp-layer2.learnd+0.5], vmin=0,vmax=1)\n",
    "\t\tclear_output(True)\n",
    "\t\tplt.title(\"Correct\")\n",
    "\t\tdisp.update(plt.figure)\n",
    "\t\tplt.pause(0.1)"
   ]
  },
  {
   "cell_type": "code",
   "execution_count": null,
   "id": "8d604e92",
   "metadata": {},
   "outputs": [],
   "source": [
    "class PredictingLayer(Layer):\n",
    "\tdef __init__(self, shape):\n",
    "\t\tsuper().__init__(shape)\n",
    "\t\tself.prevSenderV = {}\n",
    "\tdef input(self, sender):\n",
    "\t\tif not sender in self.w:\n",
    "\t\t\tself.w[sender] = parts.initWeights((sender.shape,self.shape))\n",
    "\t\t\tself.prevSenderV[sender] = torch.zeros(sender.shape)\n",
    "\t\tself.inputExcitatory += self.prevSenderV[sender] @ self.w[sender]\n",
    "\tdef update(self, alphaCycleProgess, layerToPredict):\n",
    "\t\tsuper().updateV()\n",
    "\t\tif alphaCycleProgess > 0.5:\n",
    "\t\t\tself.v.copy_(layerToPredict)\n",
    "\tdef updatePostAlphaCycle(self):\n",
    "\t\tfor sender in self.w:\n",
    "\t\t\tself.prevSenderV[sender] = sender.v.clone()\n",
    "\t"
   ]
  },
  {
   "cell_type": "markdown",
   "id": "84da8342",
   "metadata": {},
   "source": [
    "# Sep 10, 2025"
   ]
  },
  {
   "cell_type": "code",
   "execution_count": 2,
   "id": "d506c816",
   "metadata": {},
   "outputs": [],
   "source": [
    "class Layer(parts.Layer):\n",
    "\tdef learn(self, alphaCycleProgress):\n",
    "\t\tif alphaCycleProgress[\"minusPhaseEnd\"]:\n",
    "\t\t\tself.vMinusPhase = self.v.clone()\n",
    "\t\tif alphaCycleProgress[\"end\"]:\n",
    "\t\t\tfor sender in self.w:\n",
    "\t\t\t\tself.w[sender] += (self.v-self.vMinusPhase)[None,:] * sender.v[:,None] * 0.1\n",
    "\t\t\t\tself.w[sender].clamp_(0.0,1.0)\n",
    "\n",
    "class DeeppredLayers:\n",
    "\tdef __init__(self, shape):\n",
    "\t\tself.s = Layer(shape) # superficial\n",
    "\t\tself.p = {} # predicting layers / pulvinar\n",
    "\t\tself.c = Layer(shape) # previous superficial layer activation / CT\n",
    "\t\tself.lowerLayers = set()\n",
    "\tdef input(self, sender, *args, **kwargs):\n",
    "\t\tif not sender in self.lowerLayers:\n",
    "\t\t\tself.lowerLayers.add(sender)\n",
    "\t\tself.s.input(sender, *args, **kwargs)\n",
    "\t\t\n",
    "\tdef update(self, alphaCycleProgress):\n",
    "\t\tself.c.update()\n",
    "\t\tfor lowerLayer in self.lowerLayers:\n",
    "\t\t\tif not lowerLayer in self.p:\n",
    "\t\t\t\tself.p[lowerLayer] = Layer(lowerLayer.shape)\n",
    "\n",
    "\t\t\t#if not hasattr(lowerLayer,\"vPrevAlphaCycle\"):\n",
    "\t\t\t#\tlowerLayer.vPrevAlphaCycle = torch.zeros(lowerLayer.shape)\n",
    "\n",
    "\t\t\tif alphaCycleProgress[\"plusPhase\"]:\n",
    "\t\t\t\tself.p[lowerLayer].constantV = lowerLayer.v\n",
    "\t\t\telse:\n",
    "\t\t\t\tself.p[lowerLayer].constantV = None\n",
    "\t\t\t\tself.p[lowerLayer].input(self.c, bidirectional=False)\n",
    "\n",
    "\t\t\tself.p[lowerLayer].update()\n",
    "\t\t\tself.s.input(self.p[lowerLayer], bidirectional=False)\n",
    "\n",
    "\t\tself.s.update()\n",
    "\t\t\n",
    "\t\tif alphaCycleProgress[\"end\"]:\n",
    "\t\t\tself.c.constantV = self.s.v\n",
    "\t\t\t#for lowerLayer in self.lowerLayers:\n",
    "\t\t\t#\tlowerLayer.vPrevAlphaCycle.copy_(lowerLayer.v)\n",
    "\n",
    "\tdef getLayers(self):\n",
    "\t\tyield self.s; yield from self.p.values(); yield self.c"
   ]
  },
  {
   "cell_type": "code",
   "execution_count": 3,
   "id": "aa8dc380",
   "metadata": {},
   "outputs": [
    {
     "data": {
      "text/plain": [
       "<function matplotlib.pyplot.figure(num: 'int | str | Figure | SubFigure | None' = None, figsize: 'ArrayLike | None' = None, dpi: 'float | None' = None, *, facecolor: 'ColorType | None' = None, edgecolor: 'ColorType | None' = None, frameon: 'bool' = True, FigureClass: 'type[Figure]' = <class 'matplotlib.figure.Figure'>, clear: 'bool' = False, **kwargs) -> 'Figure'>"
      ]
     },
     "metadata": {},
     "output_type": "display_data"
    }
   ],
   "source": [
    "patterns=torch.diagonal_scatter(torch.zeros(5,10),torch.ones(5))\n",
    "\n",
    "inputLayer = Layer(10)\n",
    "d1 = DeeppredLayers(10)\n",
    "disp=display(display_id=True)"
   ]
  },
  {
   "cell_type": "code",
   "execution_count": null,
   "id": "1b12ac5a",
   "metadata": {},
   "outputs": [],
   "source": [
    "def update(pattern, alphaCycleProgress):\n",
    "\tinputLayer.constantV = pattern\n",
    "\tinputLayer.update()\n",
    "\td1.input(inputLayer)\n",
    "\td1.update(alphaCycleProgress=alphaCycleProgress)\n",
    "\t\n",
    "\tfor layer in d1.getLayers():\n",
    "\t\tlayer.learn(alphaCycleProgress=alphaCycleProgress)\n",
    "\n",
    "\tplt.imshow([inputLayer.v, d1.s.v, d1.c.v, d1.p[inputLayer].v], vmin=0,vmax=1)\n",
    "\tclear_output(True)\n",
    "\tdisp.update(plt.figure)\n",
    "\tplt.pause(0.02)\n",
    "\n",
    "for i in range(10):\n",
    "\tfor pattern in patterns:\n",
    "\t\tfor i in range(10):\n",
    "\t\t\tplt.title(\"Predict \"+str(i))\n",
    "\t\t\tupdate(pattern, {\"plusPhase\":False, \"end\":False, \"minusPhaseEnd\":i==9})\n",
    "\t\tfor i in range(10):\n",
    "\t\t\tplt.title(\"Correct \"+str(i))\n",
    "\t\t\tupdate(pattern, {\"plusPhase\":True, \"end\":i==9, \"minusPhaseEnd\":False})"
   ]
  }
 ],
 "metadata": {
  "kernelspec": {
   "display_name": ".venv",
   "language": "python",
   "name": "python3"
  },
  "language_info": {
   "codemirror_mode": {
    "name": "ipython",
    "version": 3
   },
   "file_extension": ".py",
   "mimetype": "text/x-python",
   "name": "python",
   "nbconvert_exporter": "python",
   "pygments_lexer": "ipython3",
   "version": "3.13.4"
  }
 },
 "nbformat": 4,
 "nbformat_minor": 5
}
