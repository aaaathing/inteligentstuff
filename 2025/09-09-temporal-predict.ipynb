{
 "cells": [
  {
   "cell_type": "code",
   "execution_count": 1,
   "id": "44fa7108",
   "metadata": {},
   "outputs": [],
   "source": [
    "import sys\n",
    "sys.path.append(\"..\")\n",
    "import math\n",
    "import torch\n",
    "from torch import tensor\n",
    "import parts\n",
    "import matplotlib.pyplot as plt\n",
    "import random\n",
    "from IPython.display import clear_output, display, update_display"
   ]
  },
  {
   "cell_type": "code",
   "execution_count": 60,
   "id": "5628b290",
   "metadata": {},
   "outputs": [],
   "source": [
    "class Layer(parts.Layer): # adds learning\n",
    "\tdef __init__(self, shape):\n",
    "\t\tsuper().__init__(shape)\n",
    "\t\tself.learnp = torch.zeros(shape)\n",
    "\t\tself.learnd = torch.zeros(shape)\n",
    "\tdef learn(self, lr=0.1):\n",
    "\t\tself.learnp += (self.v-self.learnp)/8\n",
    "\t\tself.learnd += (self.learnp-self.learnd)/8\n",
    "\t\terror = self.learnp-self.learnd\n",
    "\t\tfor sender in self.w:\n",
    "\t\t\tself.w[sender] += error[None,:] * sender.v[:,None] * lr\n",
    "\t\t\tself.w[sender].clamp_(0.0,1.0)"
   ]
  },
  {
   "cell_type": "code",
   "execution_count": 61,
   "id": "f4b44482",
   "metadata": {},
   "outputs": [],
   "source": [
    "# test learning\n",
    "torch.manual_seed(0)\n",
    "patterns=[(torch.rand((10,)) < 0.2).type(torch.float) for _ in range(5)]\n",
    "\n",
    "layer1 = Layer(10)\n",
    "layer2 = Layer(10)"
   ]
  },
  {
   "cell_type": "code",
   "execution_count": 66,
   "id": "61361ce5",
   "metadata": {},
   "outputs": [
    {
     "data": {
      "image/png": "[encoded data removed]",
      "text/plain": [
       "<Figure size 640x480 with 1 Axes>"
      ]
     },
     "metadata": {},
     "output_type": "display_data"
    }
   ],
   "source": [
    "# test learning\n",
    "disp=display(display_id=True)\n",
    "for _ in range(10):\n",
    "\tp = patterns[random.randint(0,len(patterns)-1)]\n",
    "\tlayer1.v.zero_()\n",
    "\tlayer2.v.zero_()\n",
    "\tfor i in range(10):\n",
    "\t\tlayer1.inputTensor(p)\n",
    "\t\tlayer2.input(layer1)\n",
    "\t\tlayer1.update()\n",
    "\t\tlayer1.learn()\n",
    "\t\tlayer2.update()\n",
    "\t\tlayer2.learn()\n",
    "\t\tplt.imshow([p,layer1.v,layer2.v,layer2.learnp-layer2.learnd+0.5], vmin=0,vmax=1)\n",
    "\t\tclear_output(True)\n",
    "\t\tplt.title(\"Predict\")\n",
    "\t\tdisp.update(plt.figure)\n",
    "\t\tplt.pause(0.1)\n",
    "\n",
    "\tfor i in range(10):\n",
    "\t\tlayer1.inputTensor(p)\n",
    "\t\tlayer2.input(layer1)\n",
    "\t\tlayer1.update()\n",
    "\t\tlayer1.learn()\n",
    "\t\tlayer2.update()\n",
    "\t\tlayer2.v.copy_(p.roll(1))\n",
    "\t\tlayer2.learn()\n",
    "\t\tplt.imshow([p,layer1.v,layer2.v,layer2.learnp-layer2.learnd+0.5], vmin=0,vmax=1)\n",
    "\t\tclear_output(True)\n",
    "\t\tplt.title(\"Correct\")\n",
    "\t\tdisp.update(plt.figure)\n",
    "\t\tplt.pause(0.1)"
   ]
  },
  {
   "cell_type": "code",
   "execution_count": null,
   "id": "8d604e92",
   "metadata": {},
   "outputs": [],
   "source": [
    "class PredictingLayer(Layer):\n",
    "\tdef __init__(self, shape):\n",
    "\t\tsuper().__init__(shape)\n",
    "\t\tself.prevSenderV = {}\n",
    "\tdef input(self, sender):\n",
    "\t\tif not sender in self.w:\n",
    "\t\t\tself.w[sender] = parts.initWeights((sender.shape,self.shape))\n",
    "\t\t\tself.prevSenderV[sender] = torch.zeros(sender.shape)\n",
    "\t\tself.inputExcitatory += self.prevSenderV[sender] @ self.w[sender]\n",
    "\tdef update(self, alphaCycleProgess, layerToPredict):\n",
    "\t\tsuper().updateV()\n",
    "\t\tif alphaCycleProgess > 0.5:\n",
    "\t\t\tself.v.copy_(layerToPredict)\n",
    "\tdef updatePostAlphaCycle(self):\n",
    "\t\tfor sender in self.w:\n",
    "\t\t\tself.prevSenderV[sender] = sender.v.clone()\n",
    "\t"
   ]
  },
  {
   "cell_type": "code",
   "execution_count": null,
   "id": "d506c816",
   "metadata": {},
   "outputs": [],
   "source": []
  }
 ],
 "metadata": {
  "kernelspec": {
   "display_name": ".venv",
   "language": "python",
   "name": "python3"
  },
  "language_info": {
   "codemirror_mode": {
    "name": "ipython",
    "version": 3
   },
   "file_extension": ".py",
   "mimetype": "text/x-python",
   "name": "python",
   "nbconvert_exporter": "python",
   "pygments_lexer": "ipython3",
   "version": "3.13.4"
  }
 },
 "nbformat": 4,
 "nbformat_minor": 5
}
