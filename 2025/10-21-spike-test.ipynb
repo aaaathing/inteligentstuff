{
 "cells": [
  {
   "cell_type": "markdown",
   "id": "6041521d",
   "metadata": {},
   "source": [
    "how did i spend 3 hours on figuring out spiking??"
   ]
  },
  {
   "cell_type": "code",
   "execution_count": null,
   "id": "13e029eb",
   "metadata": {},
   "outputs": [],
   "source": [
    "# Oct 21   3 pm\n",
    "import numpy as np\n",
    "from math import tanh\n",
    "import matplotlib.pyplot as plt\n",
    "\n",
    "list_v=[]\n",
    "s=0.0\n",
    "p=140.0\n",
    "v=-65.0\n",
    "si=0.0\n",
    "for i in range(100):\n",
    "\t\tspeed=0.8\n",
    "\t\treseta=1.0/(1.0+np.exp((v+70.0)/2.0))\n",
    "\t\tsa=1.0/(1.0+np.exp(-(v+35.0)/10.0))\n",
    "\t\t#si=1.0/(1.0+np.exp(-(v+0.0)/1.0))\n",
    "\t\tif v>0.0:\n",
    "\t\t\tsi=1.0\n",
    "\t\telif v<-70.0:\n",
    "\t\t\tsi=0.0\n",
    "\t\ts+=(1.0-si)*sa*speed*(145.0-s) + reseta*speed*(0.0-s)\n",
    "\t\tp+=(si)*speed*(0.0-p) + reseta*speed*(140.0-p)\n",
    "\t\tv=-65.0+s+p-140.0\n",
    "\t\tlist_v.append(v)\n",
    "\n",
    "plt.plot(np.arange(len(list_v)),list_v)\n"
   ]
  },
  {
   "cell_type": "code",
   "execution_count": null,
   "id": "3f11d8ca",
   "metadata": {},
   "outputs": [],
   "source": [
    "# 6:13 PM\n",
    "# attempt 2\n",
    "import numpy as np\n",
    "from math import tanh\n",
    "import matplotlib.pyplot as plt\n",
    "\n",
    "list_v=[]\n",
    "v=-65.0\n",
    "si=0.0\n",
    "for i in range(100):\n",
    "\t\tspeed=0.8\n",
    "\t\t#reseta=1.0/(1.0+np.exp((v+70.0)/2.0))\n",
    "\t\tsa=1.0/(1.0+np.exp(-(v+35.0)/10.0))\n",
    "\t\tsi += (1.0/(1.0+np.exp(-(v+0.0)/5.0)))*(1.0-si)*speed - (1.0/(1.0+np.exp((v+65.0)/5.0)))*si*speed\n",
    "\t\tv+=(1.0-si)*sa*speed*(80.0-v) + (si)*speed*(-70.0-v) #+ reseta*speed*(-65.0-v)\n",
    "\t\tlist_v.append(v)\n",
    "\n",
    "plt.plot(np.arange(len(list_v)),list_v)\n"
   ]
  },
  {
   "cell_type": "code",
   "execution_count": null,
   "id": "0ada61ce",
   "metadata": {},
   "outputs": [],
   "source": [
    "# Oct 22, 2:23 pm\n",
    "import numpy as np\n",
    "from math import tanh\n",
    "import matplotlib.pyplot as plt\n",
    "\n",
    "list_v=[]\n",
    "s=0.0\n",
    "p=140.0\n",
    "v=-65.0\n",
    "si=0.0\n",
    "for i in range(100):\n",
    "\t\tspeed=0.8\n",
    "\t\tsa=1.0/(1.0+np.exp(-(v+35.0)/10.0))\n",
    "\t\t#si=1.0/(1.0+np.exp(-(v+0.0)/1.0))\n",
    "\t\tsi -= si*1.0*speed\n",
    "\t\tif v>30.0:\n",
    "\t\t\tsi+=(1.0/(1.0+np.exp(-(v-30.0)/1.0)))*speed*(1.0-si)\n",
    "\t\ts+=(1.0-si)*sa*speed*(145.0-s) + 0.5*speed*(0.0-s)\n",
    "\t\tp+=(si)*speed*(0.0-p) + 0.5*speed*(140.0-p)\n",
    "\t\tv=-65.0+s+p-140.0\n",
    "\t\tlist_v.append(v)\n",
    "\n",
    "plt.plot(np.arange(len(list_v)),list_v)\n"
   ]
  }
 ],
 "metadata": {
  "kernelspec": {
   "display_name": ".venv",
   "language": "python",
   "name": "python3"
  },
  "language_info": {
   "codemirror_mode": {
    "name": "ipython",
    "version": 3
   },
   "file_extension": ".py",
   "mimetype": "text/x-python",
   "name": "python",
   "nbconvert_exporter": "python",
   "pygments_lexer": "ipython3",
   "version": "3.13.4"
  }
 },
 "nbformat": 4,
 "nbformat_minor": 5
}
