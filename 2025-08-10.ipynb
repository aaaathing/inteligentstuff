{
 "cells": [
  {
   "cell_type": "code",
   "execution_count": 1,
   "id": "cff6da92",
   "metadata": {},
   "outputs": [],
   "source": [
    "import torch\n",
    "from torch import tensor\n",
    "import matplotlib.pyplot as plt"
   ]
  },
  {
   "cell_type": "code",
   "execution_count": 52,
   "id": "3f2274d3",
   "metadata": {},
   "outputs": [],
   "source": [
    "def flattenShape(shape):\n",
    "\tres = 1\n",
    "\tfor x in shape:\n",
    "\t\tres *= x\n",
    "\treturn res\n",
    "\n",
    "class nlayer:\n",
    "\tdef __init__(self, shape):\n",
    "\t\tself.shape = shape\n",
    "\t\tglobal layerid\n",
    "\t\tself.w = {}\n",
    "\t\tself.trace = {}\n",
    "\t\tself.nextV = torch.zeros(flattenShape(shape))\n",
    "\tdef input(self, otherLayer):\n",
    "\t\tif not otherLayer in self.w:\n",
    "\t\t\tself.w[otherLayer] = torch.rand((flattenShape(otherLayer.shape),flattenShape(self.shape)))*0.2+0.4\n",
    "\t\tself.nextV += otherLayer.v @ self.w[otherLayer]\n",
    "\tdef inputTensor(self, t):\n",
    "\t\tself.nextV += t.flatten()\n",
    "\tdef update(self, reward=0.0, lr=0.5):\n",
    "\t\tself.v = self.nextV\n",
    "\t\tself.nextV = torch.zeros(flattenShape(self.shape))\n",
    "\t\tfor otherLayer in self.w:\n",
    "\t\t\tif not otherLayer in self.trace:\n",
    "\t\t\t\tself.trace[otherLayer] = torch.zeros((flattenShape(otherLayer.shape),flattenShape(self.shape)))\n",
    "\t\t\tself.trace[otherLayer] += otherLayer.v[:,None] * self.v[None,:]\n",
    "\t\t\tself.w[otherLayer] += reward*self.trace[otherLayer]*lr\n",
    "\t\t\tself.trace[otherLayer] *= max(1.0-abs(reward), 0.0) # replace with learning signal like max(reward,punish)\n",
    "\t\treturn self.v"
   ]
  },
  {
   "cell_type": "code",
   "execution_count": 23,
   "id": "593f7fd2",
   "metadata": {},
   "outputs": [
    {
     "data": {
      "text/plain": [
       "__main__.nlayer"
      ]
     },
     "execution_count": 23,
     "metadata": {},
     "output_type": "execute_result"
    }
   ],
   "source": [
    "type(list(layer2.w)[0])"
   ]
  },
  {
   "cell_type": "code",
   "execution_count": 27,
   "id": "4f312554",
   "metadata": {},
   "outputs": [
    {
     "name": "stdout",
     "output_type": "stream",
     "text": [
      "dict[str, int]\n"
     ]
    }
   ],
   "source": [
    "print(dict[str,int]())"
   ]
  },
  {
   "cell_type": "code",
   "execution_count": 43,
   "id": "48e404ef",
   "metadata": {},
   "outputs": [
    {
     "name": "stdout",
     "output_type": "stream",
     "text": [
      "tensor([1., 0., 1., 0.])\n",
      "{<__main__.nlayer object at 0x126f16510>: tensor([[1., 0., 1., 0.],\n",
      "        [1., 0., 1., 0.],\n",
      "        [1., 0., 1., 0.]])}\n"
     ]
    }
   ],
   "source": [
    "layer01 = nlayer((3,))\n",
    "layer02 = nlayer((4,))\n",
    "layer02.w[layer01] = tensor([[1,0,0,0],[0,0,0,0],[0,0,1,0]],dtype=torch.float)\n",
    "\n",
    "layer01.inputTensor(tensor([1,1,1]))\n",
    "layer01.update()\n",
    "layer02.input(layer01)\n",
    "out = layer02.update()\n",
    "print(out)\n",
    "print(layer02.trace)"
   ]
  },
  {
   "cell_type": "markdown",
   "id": "539145fc",
   "metadata": {},
   "source": [
    "Aug 10, 2025, 3:10 pm: it didn't learn anything even after 50 iterations"
   ]
  },
  {
   "cell_type": "code",
   "execution_count": null,
   "id": "f73e0996",
   "metadata": {},
   "outputs": [],
   "source": [
    "fig, axs = plt.subplots(1, 2)\n",
    "\n",
    "position = [2,2]\n",
    "\n",
    "layer1 = nlayer((10,10))\n",
    "layer2 = nlayer((4,))\n",
    "\n",
    "reward = 0.0\n",
    "\n",
    "for i in range(50):\n",
    "\tinput = torch.zeros((10,10))\n",
    "\tinput[round(position[0]),round(position[1])] = 1.\n",
    "\tlayer1.inputTensor(input)\n",
    "\tlayer1.update(reward)\n",
    "\tlayer2.input(layer1)\n",
    "\tout = layer2.update(reward)\n",
    "\n",
    "\tposition[0] += float(out[0]-out[1])\n",
    "\tposition[1] += float(out[2]-out[3])\n",
    "\n",
    "\treward = float(out[0]-out[1])\n",
    "\t# position[0]>8 and position[0]<10 and position[1]>3 and position[1]<7\n",
    "\n",
    "\tprint(out,reward)\n",
    "\taxs[0].imshow(input, interpolation='nearest', vmin=0,vmax=1)\n",
    "\taxs[1].imshow(layer2.w[layer1], interpolation='nearest', vmin=0,vmax=1)\n",
    "\tplt.pause(0.1)"
   ]
  }
 ],
 "metadata": {
  "kernelspec": {
   "display_name": ".venv",
   "language": "python",
   "name": "python3"
  },
  "language_info": {
   "codemirror_mode": {
    "name": "ipython",
    "version": 3
   },
   "file_extension": ".py",
   "mimetype": "text/x-python",
   "name": "python",
   "nbconvert_exporter": "python",
   "pygments_lexer": "ipython3",
   "version": "3.13.4"
  }
 },
 "nbformat": 4,
 "nbformat_minor": 5
}
